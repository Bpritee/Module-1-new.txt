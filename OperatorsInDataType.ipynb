{
  "nbformat": 4,
  "nbformat_minor": 0,
  "metadata": {
    "colab": {
      "provenance": [],
      "authorship_tag": "ABX9TyO0Jwkh2JuX7PKmu+LMQQwo",
      "include_colab_link": true
    },
    "kernelspec": {
      "name": "python3",
      "display_name": "Python 3"
    },
    "language_info": {
      "name": "python"
    }
  },
  "cells": [
    {
      "cell_type": "markdown",
      "metadata": {
        "id": "view-in-github",
        "colab_type": "text"
      },
      "source": [
        "<a href=\"https://colab.research.google.com/github/Bpritee/Pritee/blob/Module-1/OperatorsInDataType.ipynb\" target=\"_parent\"><img src=\"https://colab.research.google.com/assets/colab-badge.svg\" alt=\"Open In Colab\"/></a>"
      ]
    },
    {
      "cell_type": "markdown",
      "source": [
        "**Test a number**\n",
        "\n",
        "Write a Python program to test whether a number is within 100 of 1000 or 2000.\n",
        "\n",
        "Python abs(x) function:\n",
        "\n",
        "The function returns the absolute value of a number. The argument may be an integer or a floating point number. If the argument is a complex number, its magnitude is returned.\n",
        "\n",
        "Example 1:\n",
        "Input:\n",
        "1000\n",
        "\n",
        "Output:\n",
        "True"
      ],
      "metadata": {
        "id": "cIjRPe2kpieA"
      }
    },
    {
      "cell_type": "code",
      "execution_count": 1,
      "metadata": {
        "colab": {
          "base_uri": "https://localhost:8080/"
        },
        "id": "lz72t0JspbD3",
        "outputId": "04687a58-214b-4d6b-f98d-459dd592b1da"
      },
      "outputs": [
        {
          "output_type": "stream",
          "name": "stdout",
          "text": [
            "1000\n",
            "True\n"
          ]
        }
      ],
      "source": [
        "n = int(input())\n",
        "print((abs(1000-n)<=100) or ((abs(2000-n)<=100)))"
      ]
    },
    {
      "cell_type": "markdown",
      "source": [
        "**Easy Maths**\n",
        "\n",
        "Write a Python program to compute the future value of a specified principal amount, rate of interest, and a number of years.\n",
        "\n",
        "The formula for future value with compound interest is FV = P(1 + r/n)^nt. FV = the future value; P = the principal; r = the annual interest rate expressed as a decimal; n = the number of times interest is paid each year; t = time in years.\n",
        "\n",
        "Test Data : amt = 10000, int = 3.5, years = 7 Expected Output : 12722.79\n",
        "\n",
        "Example 1:\n",
        "Input:\n",
        "10000\n",
        "\n",
        "3.5\n",
        "\n",
        "7\n",
        "\n",
        "Output:\n",
        "12722.79"
      ],
      "metadata": {
        "id": "lSzoIHR-qsB2"
      }
    },
    {
      "cell_type": "code",
      "source": [
        "# Take the input from the user\n",
        "amt = float(input())\n",
        "intr = float(input())\n",
        "years = float(input())\n",
        "FV=amt*((1+(0.01*intr))**years)\n",
        "print(FV)"
      ],
      "metadata": {
        "colab": {
          "base_uri": "https://localhost:8080/"
        },
        "id": "pHYow8D3ve5f",
        "outputId": "fc5cacda-b773-4f06-ff8b-3b3d7550441e"
      },
      "execution_count": 6,
      "outputs": [
        {
          "output_type": "stream",
          "name": "stdout",
          "text": [
            "10000\n",
            "3.5\n",
            "7\n",
            "12722.792627665729\n"
          ]
        }
      ]
    },
    {
      "cell_type": "markdown",
      "source": [
        "**Coding Assessment**\n",
        "\n",
        "Print data types of all variables in desired format..\n",
        "\n",
        "Example 1:\n",
        "Input:\n",
        "intg = 1452\n",
        "\n",
        "flot = 11.23\n",
        "\n",
        "cmplx = 1+2j\n",
        "\n",
        "booln = True\n",
        "\n",
        "tpl = (0,-1)\n",
        "\n",
        "lst = [5,12]\n",
        "\n",
        "dct = {'class': 'V', 'section': 'A'}\n",
        "\n",
        "Output:\n",
        "Type of 1452 is <class 'int'>\n",
        "\n",
        "Type of 11.23 is <class 'float'>\n",
        "\n",
        "Type of (1+2j) is <class 'complex'>\n",
        "\n",
        "Type of True is <class 'bool'>\n",
        "\n",
        "Type of (0, -1) is <class 'tuple'>\n",
        "\n",
        "Type of [5, 12] is <class 'list'>\n",
        "\n",
        "Type of {'class': 'V', 'section': 'A'} is <class 'dict'>"
      ],
      "metadata": {
        "id": "yOVNY0Btylgm"
      }
    },
    {
      "cell_type": "code",
      "source": [
        "# Take the inputs\n",
        "intg = 1452\n",
        "flot = 11.23\n",
        "cmplx = 1+2j\n",
        "booln = True\n",
        "tpl = (0,-1)\n",
        "lst = [5,12]\n",
        "dct = {'class': 'V', 'section': 'A'}\n",
        "# Printing all the datatypes\n",
        "print(\"Type of \",intg, \" is \", type(intg))\n",
        "print(\"Type of \",flot, \" is \", type(flot))\n",
        "print(\"Type of \",cmplx, \" is \", type(cmplx))\n",
        "print(\"Type of \",booln, \" is \", type(booln))\n",
        "print(\"Type of \",tpl, \" is \", type(tpl))\n",
        "print(\"Type of \",lst, \" is \", type(lst))\n",
        "print(\"Type of \",dct, \" is \", type(dct))"
      ],
      "metadata": {
        "colab": {
          "base_uri": "https://localhost:8080/"
        },
        "id": "lSbFBLj1ylK3",
        "outputId": "4598edd6-b6c9-4855-b57a-4ab83d68fada"
      },
      "execution_count": 7,
      "outputs": [
        {
          "output_type": "stream",
          "name": "stdout",
          "text": [
            "Type of  1452  is  <class 'int'>\n",
            "Type of  11.23  is  <class 'float'>\n",
            "Type of  (1+2j)  is  <class 'complex'>\n",
            "Type of  True  is  <class 'bool'>\n",
            "Type of  (0, -1)  is  <class 'tuple'>\n",
            "Type of  [5, 12]  is  <class 'list'>\n",
            "Type of  {'class': 'V', 'section': 'A'}  is  <class 'dict'>\n"
          ]
        }
      ]
    }
  ]
}